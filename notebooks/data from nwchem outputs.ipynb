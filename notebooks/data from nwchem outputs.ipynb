{
 "cells": [
  {
   "cell_type": "markdown",
   "id": "cf7196a0",
   "metadata": {},
   "source": [
    "# Extract coordinates and generate movie.xyz"
   ]
  },
  {
   "cell_type": "markdown",
   "id": "a9f988bd",
   "metadata": {},
   "source": [
    "The next code generate a movie.xyz file from the output information of NWChem program, it search through the output file, in this case \"salida.out\" for the coordinates, it generates a dataframe that is stored in pkl format, the it reads from the dataframe file to generate the movie.xyz"
   ]
  },
  {
   "cell_type": "markdown",
   "id": "01cff12e",
   "metadata": {},
   "source": [
    "The coordinates in the NWChem output are in atomic units to convert them to angstroms we multiply by 0.5291771057875306 ~ 1/1.889725989 "
   ]
  },
  {
   "cell_type": "code",
   "execution_count": null,
   "id": "f58459b4",
   "metadata": {},
   "outputs": [],
   "source": [
    "import numpy as np\n",
    "import pandas as pd\n",
    "\n",
    "path = \"salida.out\"\n",
    "N = 30\n",
    "au2aFactor = 0.5291771057875306\n",
    "\n",
    "dic = {}\n",
    "dic[\"ida\"] = {}\n",
    "dic[\"atom\"] = {}\n",
    "dic[\"x\"] = {}\n",
    "dic[\"y\"] = {}\n",
    "dic[\"z\"] = {}\n",
    "dic[\"fx\"] = {}\n",
    "dic[\"fy\"] = {}\n",
    "dic[\"fz\"] = {}\n",
    "dic[\"frame\"] = {}\n",
    "\n",
    "\n",
    "ij = 0\n",
    "f = open(path, \"r\")\n",
    "idx = 0\n",
    "for line in f:\n",
    "    if \"DFT ENERGY GRADIENTS\" in line:\n",
    "        line = next(f)\n",
    "        line = next(f)\n",
    "        line = next(f)\n",
    "        for i in range(N):\n",
    "            line = next(f)\n",
    "            sp = line.split()\n",
    "            \n",
    "            ida = sp[0]\n",
    "            atom = sp[1]\n",
    "            x = sp[2]\n",
    "            y = sp[3]\n",
    "            z = sp[4]\n",
    "            fx = sp[5]\n",
    "            fy = sp[6]\n",
    "            fz = sp[7]\n",
    "            frame = ij\n",
    "            \n",
    "            dic[\"ida\"][idx] = ida\n",
    "            dic[\"atom\"][idx] = atom\n",
    "            dic[\"x\"][idx] = float(x)*au2aFactor\n",
    "            dic[\"y\"][idx] = float(y)*au2aFactor\n",
    "            dic[\"z\"][idx] = float(z)*au2aFactor\n",
    "            dic[\"fx\"][idx] = float(fx)\n",
    "            dic[\"fy\"][idx] = float(fy)\n",
    "            dic[\"fz\"][idx] = float(fz)        \n",
    "            dic[\"frame\"][idx] = int(frame)\n",
    "            idx+=1\n",
    "        \n",
    "        ij+=1\n",
    "\n",
    "f.close()\n",
    "\n",
    "path_out = \"aot-jqkk.pkl\"\n",
    "df = pd.DataFrame(dic)\n",
    "df.to_pickle(path_out)\n",
    "\n",
    "path_info = \"aot-jqkk.pkl\"\n",
    "df = pd.read_pickle(path_info)\n",
    "\n",
    "path_movie = \"movie_from_min.xyz\"\n",
    "f = open(path_movie, \"w\")\n",
    "\n",
    "frames = df[\"frame\"].unique()\n",
    "N = len(df[df[\"frame\"] == 0])\n",
    "for frame in frames:\n",
    "    \n",
    "    tmp_df = df[df[\"frame\"] == frame]\n",
    "    f.write(f\"{len(tmp_df)}\")\n",
    "    f.write(f\"\\n  {frame}\\n\")\n",
    "    for idx in tmp_df.index:\n",
    "        \n",
    "        atom = tmp_df[\"atom\"].loc[idx]\n",
    "        x = tmp_df[\"x\"].loc[idx]\n",
    "        y = tmp_df[\"y\"].loc[idx]\n",
    "        z = tmp_df[\"z\"].loc[idx]\n",
    "        \n",
    "        f.write(f\"{atom}\")\n",
    "        f.write(f\"{x:10.4f}{y:10.4f}{z:10.4f}\\n\")\n",
    "        \n",
    "    \n",
    "    \n",
    "f.close()"
   ]
  },
  {
   "cell_type": "code",
   "execution_count": null,
   "id": "6d8d8f3d",
   "metadata": {},
   "outputs": [],
   "source": []
  }
 ],
 "metadata": {
  "kernelspec": {
   "display_name": "Python 3 (ipykernel)",
   "language": "python",
   "name": "python3"
  },
  "language_info": {
   "codemirror_mode": {
    "name": "ipython",
    "version": 3
   },
   "file_extension": ".py",
   "mimetype": "text/x-python",
   "name": "python",
   "nbconvert_exporter": "python",
   "pygments_lexer": "ipython3",
   "version": "3.9.7"
  }
 },
 "nbformat": 4,
 "nbformat_minor": 5
}
