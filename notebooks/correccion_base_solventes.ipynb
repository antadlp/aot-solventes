{
 "cells": [
  {
   "cell_type": "code",
   "execution_count": 9,
   "id": "9ad041c0-b026-46de-b378-b9f7c5d6e381",
   "metadata": {},
   "outputs": [
    {
     "name": "stdout",
     "output_type": "stream",
     "text": [
      "         Total DFT energy =    -1551.614984209110\n",
      "\n",
      "         Total DFT energy =    -1321.244894146477\n",
      "\n",
      "         Total DFT energy =    -1321.246173672246\n",
      "\n",
      "         Total DFT energy =     -230.328169709061\n",
      "\n",
      "         Total DFT energy =     -230.330482837555\n",
      "\n",
      "             BSSE error =       0.003592654262\n",
      "\n",
      "  Supermolecular energy =   -1551.614984209110\n",
      "\n",
      "       Corrected energy =   -1551.611391554849\n",
      "\n"
     ]
    }
   ],
   "source": [
    "import pandas as pd\n",
    "\n",
    "path = \"/data/mllab/SIMS/aot_solventes/aot-eg2-bsse/salida.out\"\n",
    "\n",
    "f = open(path, 'r')\n",
    "\n",
    "f = open(path, 'r')\n",
    "\n",
    "for line in f:\n",
    "    \n",
    "    if \"BSSE error\" in line:\n",
    "        print(line)\n",
    "    \n",
    "    if \"Supermolecular energy\" in line:\n",
    "        print(line)    \n",
    "    \n",
    "    if \"Corrected energy\" in line:\n",
    "        print(line)    \n",
    "        \n",
    "    if \"Total DFT\" in line:\n",
    "        print(line)        \n",
    "        \n",
    "        \n",
    "f.close()"
   ]
  },
  {
   "cell_type": "markdown",
   "id": "87f005eb-efae-4677-9cdf-50a0534307cb",
   "metadata": {},
   "source": [
    "# MeOH"
   ]
  },
  {
   "cell_type": "code",
   "execution_count": 11,
   "id": "18e411a8-2c42-43d9-a08a-ab14dd04ad91",
   "metadata": {},
   "outputs": [
    {
     "name": "stdout",
     "output_type": "stream",
     "text": [
      "         Total DFT energy =    -1987.553680745325\n",
      "\n",
      "         Total DFT energy =    -1871.769240020855\n",
      "\n",
      "         Total DFT energy =    -1871.770353524482\n",
      "\n",
      "         Total DFT energy =     -115.764480877294\n",
      "\n",
      "         Total DFT energy =     -115.765289378488\n",
      "\n",
      "             BSSE error =       0.001922004821\n",
      "\n",
      "  Supermolecular energy =   -1987.553680745325\n",
      "\n",
      "       Corrected energy =   -1987.551758740504\n",
      "\n"
     ]
    }
   ],
   "source": [
    "import pandas as pd\n",
    "\n",
    "path = \"/data/mllab/SIMS/aot_jqkk/aot-jqkk-ver5-bsse2/salida.out\"\n",
    "\n",
    "f = open(path, 'r')\n",
    "\n",
    "for line in f:\n",
    "    \n",
    "    if \"BSSE error\" in line:\n",
    "        print(line)\n",
    "    \n",
    "    if \"Supermolecular energy\" in line:\n",
    "        print(line)    \n",
    "    \n",
    "    if \"Corrected energy\" in line:\n",
    "        print(line)    \n",
    "        \n",
    "    if \"Total DFT\" in line:\n",
    "        print(line)        \n",
    "        \n",
    "        \n",
    "f.close()"
   ]
  },
  {
   "cell_type": "code",
   "execution_count": 12,
   "id": "017b6d66-1a53-491c-8870-38b2b1321f8f",
   "metadata": {},
   "outputs": [
    {
     "name": "stdout",
     "output_type": "stream",
     "text": [
      "EA_def: 0\n",
      "EB_def: 0.0003886733109936813\n",
      "Ecp_int: -0.018037842354914346\n",
      "Ecp_bind: -0.017649169043920665\n"
     ]
    }
   ],
   "source": [
    "EA_AA = -1871.769238672311 # solo no def\n",
    "EB_BB = -115.764869550605\n",
    "\n",
    "##################\n",
    "\n",
    "ET_ABAB = -1987.553680745325\n",
    "\n",
    "EA_AB = -1871.769240020855 # def en base A\n",
    "EB_AB = -115.764480877294\n",
    "\n",
    "EA_ABAB = -1871.770353524482 # def en base AB\n",
    "EB_ABAB = -115.765289378488\n",
    "\n",
    "EA_def = EA_AB - EA_AA\n",
    "EA_def = 0\n",
    "print(f\"EA_def: {EA_def}\")\n",
    "EB_def = EB_AB - EB_BB\n",
    "print(f\"EB_def: {EB_def}\")\n",
    "\n",
    "Ecp_int = ET_ABAB - EA_ABAB - EB_ABAB\n",
    "print(f\"Ecp_int: {Ecp_int}\")\n",
    "\n",
    "Ecp_bind = Ecp_int + EA_def + EB_def\n",
    "print(f\"Ecp_bind: {Ecp_bind}\")\n",
    "\n"
   ]
  },
  {
   "cell_type": "markdown",
   "id": "ac37188b-2cda-4d96-a82a-1399e47a3ab1",
   "metadata": {},
   "source": [
    "$\\triangle E_{\\text{bind}}^{\\text{CP}}=\\triangle E_{int}+E_{\\text{def}}\\left(\\text{AOT}\\right)+E_{\\text{def}}\\left(\\text{MeOH}\\right)$\n"
   ]
  },
  {
   "cell_type": "markdown",
   "id": "c3bee9e1-fc6b-4660-9da5-1abe0b0a5a46",
   "metadata": {},
   "source": [
    "$\\triangle E_{int}=E\\left(\\text{AOT, MeOH}\\right)-E_{0}\\left(\\text{AOT}\\right)-E_{0}\\left(\\text{MeOH}\\right)$\n"
   ]
  },
  {
   "cell_type": "code",
   "execution_count": null,
   "id": "5a208b2c-72fe-45ec-9b9c-eba9b74e1f0f",
   "metadata": {},
   "outputs": [],
   "source": []
  }
 ],
 "metadata": {
  "kernelspec": {
   "display_name": "Python 3 (ipykernel)",
   "language": "python",
   "name": "python3"
  },
  "language_info": {
   "codemirror_mode": {
    "name": "ipython",
    "version": 3
   },
   "file_extension": ".py",
   "mimetype": "text/x-python",
   "name": "python",
   "nbconvert_exporter": "python",
   "pygments_lexer": "ipython3",
   "version": "3.10.13"
  }
 },
 "nbformat": 4,
 "nbformat_minor": 5
}
